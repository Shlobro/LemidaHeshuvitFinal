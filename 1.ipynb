{
 "cells": [
  {
   "metadata": {},
   "cell_type": "markdown",
   "source": [
    "### 1. Load the data as a pandas dataframe\n",
    "### 2. create a mapping of the personality types\n",
    "### 3. replace text values with numerical values\n",
    "### 4. get rid of the \"Response ID\" column (duh)\n",
    "### 5. convert to a pandas array"
   ],
   "id": "83c6cb2cfdecbfcf"
  },
  {
   "cell_type": "code",
   "id": "initial_id",
   "metadata": {
    "collapsed": true,
    "ExecuteTime": {
     "end_time": "2025-06-22T18:10:47.099788Z",
     "start_time": "2025-06-22T18:10:46.948323Z"
    }
   },
   "source": [
    "import numpy as np\n",
    "import pandas as pd\n",
    "\n",
    "# Step 1: Load the CSV\n",
    "df = pd.read_csv('16P.csv', encoding='ISO-8859-1')\n",
    "\n",
    "# Step 2: Define your mapping dictionary\n",
    "mbti_mapping = {\n",
    "    'ESTJ': 0, 'ENTJ': 1, 'ESFJ': 2, 'ENFJ': 3,\n",
    "    'ISTJ': 4, 'ISFJ': 5, 'INTJ': 6, 'INFJ': 7,\n",
    "    'ESTP': 8, 'ESFP': 9, 'ENTP': 10, 'ENFP': 11,\n",
    "    'ISTP': 12, 'ISFP': 13, 'INTP': 14, 'INFP': 15\n",
    "}\n",
    "\n",
    "# Step 3: Apply mapping to the \"Personality\" column\n",
    "df['Personality'] = df['Personality'].map(mbti_mapping)\n",
    "\n",
    "# Step 4: Drop non-numerical identifier columns if needed (e.g., \"Response Id\")\n",
    "df = df.drop(columns=['Response Id'])\n",
    "\n",
    "# Step 5: Convert to NumPy 2D array\n",
    "data_array = df.to_numpy()\n",
    "\n",
    "# Now data_array is a NumPy 2D array ready for ML usage\n",
    "print(data_array.shape)\n",
    "\n",
    "data_array"
   ],
   "outputs": [
    {
     "name": "stdout",
     "output_type": "stream",
     "text": [
      "(59999, 61)\n"
     ]
    },
    {
     "data": {
      "text/plain": [
       "array([[ 0,  0,  0, ...,  0,  0, 11],\n",
       "       [ 0,  0, -2, ..., -1,  3, 13],\n",
       "       [ 0,  0,  2, ...,  2,  1,  7],\n",
       "       ...,\n",
       "       [ 0,  0,  1, ...,  0, -1, 12],\n",
       "       [ 0,  0,  1, ...,  1,  0,  4],\n",
       "       [ 0,  0,  2, ...,  0, -1,  7]], shape=(59999, 61))"
      ]
     },
     "execution_count": 31,
     "metadata": {},
     "output_type": "execute_result"
    }
   ],
   "execution_count": 31
  },
  {
   "metadata": {},
   "cell_type": "markdown",
   "source": [
    "### -Split the array into X and y columns\n",
    "### -Split the data into Train and Test\n"
   ],
   "id": "78ea257d68d5cbb0"
  },
  {
   "metadata": {
    "ExecuteTime": {
     "end_time": "2025-06-22T18:10:47.270062Z",
     "start_time": "2025-06-22T18:10:47.208684Z"
    }
   },
   "cell_type": "code",
   "source": [
    "from sklearn.model_selection import train_test_split\n",
    "\n",
    "# Assuming your NumPy array is called data_array\n",
    "# Features = all columns except last, Labels = last column\n",
    "X = data_array[:, :-1]  # features\n",
    "y = data_array[:, -1]   # labels\n",
    "\n",
    "# Split into 80% training and 20% testing\n",
    "X_train, X_test, y_train, y_test = train_test_split(\n",
    "    X, y, test_size=0.2, random_state=42, stratify=y\n",
    ")\n",
    "\n",
    "print(\"X_train shape:\", X_train.shape)\n",
    "print(\"y_train shape:\", y_train.shape)\n",
    "print(\"X_test shape:\", X_test.shape)\n",
    "print(\"y_test shape:\", y_test.shape)\n",
    "\n",
    "# just to make sure the data is split evenly\n",
    "# unique, counts = np.unique(y_train, return_counts=True)\n",
    "# print(\"\\nDistribution of unique values:\")\n",
    "# for label, count in zip(unique, counts):\n",
    "#     print(f\"{label}: {count}\")\n"
   ],
   "id": "2208ed324501df83",
   "outputs": [
    {
     "name": "stdout",
     "output_type": "stream",
     "text": [
      "X_train shape: (47999, 60)\n",
      "y_train shape: (47999,)\n",
      "X_test shape: (12000, 60)\n",
      "y_test shape: (12000,)\n"
     ]
    }
   ],
   "execution_count": 32
  },
  {
   "metadata": {},
   "cell_type": "markdown",
   "source": "### Entropy function",
   "id": "d8673c67d1560545"
  },
  {
   "metadata": {
    "ExecuteTime": {
     "end_time": "2025-06-22T18:10:47.364109Z",
     "start_time": "2025-06-22T18:10:47.348269Z"
    }
   },
   "cell_type": "code",
   "source": [
    "def entropy(y):\n",
    "    classes, counts = np.unique(y, return_counts=True)\n",
    "    probs = counts / len(y)\n",
    "    return -np.sum(probs * np.log2(probs))"
   ],
   "id": "60fa156e7e69d2f5",
   "outputs": [],
   "execution_count": 33
  }
 ],
 "metadata": {
  "kernelspec": {
   "display_name": "Python 3",
   "language": "python",
   "name": "python3"
  },
  "language_info": {
   "codemirror_mode": {
    "name": "ipython",
    "version": 2
   },
   "file_extension": ".py",
   "mimetype": "text/x-python",
   "name": "python",
   "nbconvert_exporter": "python",
   "pygments_lexer": "ipython2",
   "version": "2.7.6"
  }
 },
 "nbformat": 4,
 "nbformat_minor": 5
}
